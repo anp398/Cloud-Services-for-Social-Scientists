{
 "cells": [
  {
   "cell_type": "markdown",
   "metadata": {},
   "source": [
    "# Survey: Analysis from Responses"
   ]
  },
  {
   "cell_type": "markdown",
   "metadata": {},
   "source": [
    "## Introduction\n",
    "\n",
    "- why a survey\n",
    "- what are the main results"
   ]
  },
  {
   "cell_type": "markdown",
   "metadata": {},
   "source": [
    "## Table of Contents:\n",
    "* Introduction\n",
    "* Analysis\n",
    "    * Q1: what do respondants study?\n",
    "    * Q2: what topics are the respondants interested in?\n",
    "    * Q3: Is the study subject related to topic interest?\n",
    "    * Qn: Who are the respondents? More questions..."
   ]
  },
  {
   "cell_type": "code",
   "execution_count": 1,
   "metadata": {
    "collapsed": true
   },
   "outputs": [],
   "source": [
    "#import libraries\n",
    "import pandas as pd\n",
    "import matplotlib.pyplot as plt\n",
    "%matplotlib inline "
   ]
  },
  {
   "cell_type": "code",
   "execution_count": 2,
   "metadata": {
    "collapsed": true
   },
   "outputs": [],
   "source": [
    "#from csv file to pandas dataframe\n",
    "file_name = 'data/survey_public_cloud_0717.csv'\n",
    "df = pd.read_csv(file_name, dtype=str)\n",
    "\n",
    "#clean from empty survey (those in preview mode)\n",
    "df = df[df['Status'] == 'IP Address']"
   ]
  },
  {
   "cell_type": "markdown",
   "metadata": {},
   "source": [
    "![entry_sample](img/entry_sample.PNG)\n",
    "\n",
    "<a><center> sample answer </center></a>"
   ]
  },
  {
   "cell_type": "code",
   "execution_count": 10,
   "metadata": {
    "collapsed": true
   },
   "outputs": [],
   "source": [
    "#convert object into string and string to lower case\n",
    "df.loc[:,'Q23'] = df['Q23'].astype(str).str.lower()\n",
    "\n",
    "#number of respondents?\n",
    "print('The total number of respondants to the survey is {}'.format(len(df)))"
   ]
  },
  {
   "cell_type": "markdown",
   "metadata": {},
   "source": [
    "## what do respondants study?"
   ]
  },
  {
   "cell_type": "code",
   "execution_count": 12,
   "metadata": {},
   "outputs": [
    {
     "name": "stdout",
     "output_type": "stream",
     "text": [
      "The number of respondants that did not answer this question is 1\n"
     ]
    }
   ],
   "source": [
    "#nan field update with unique entries with words that are not subjects (i.e. batteries)\n",
    "print('The number of respondants that did not answer this question is {}'.format(len(df['Q23'].loc[df['Q23'] == 'nan'])))"
   ]
  },
  {
   "cell_type": "code",
   "execution_count": 13,
   "metadata": {
    "collapsed": true
   },
   "outputs": [],
   "source": [
    "#get unique list of words\n",
    "words_list = []\n",
    "for i in df['Q23'].unique().tolist():\n",
    "    single_entry = i.split(' ')\n",
    "    for word in single_entry:\n",
    "        words_list.append(word)\n",
    "        \n",
    "#remove dupilcates\n",
    "unique_words_list = []\n",
    "for i in words_list:\n",
    "    if i not in unique_words_list:\n",
    "        unique_words_list.append(i)\n",
    "\n",
    "#select words that are not subject\n",
    "words_to_remove_list = ['and', 'batteries', 'research', '(hks)','global','international','economics,','','nan','management',\n",
    "                     'nutrition', 'economics', 'cardiovascular', 'phd,','curriculum', 'strategy', 'information', 'planning','science']\n",
    "#set a list of subjects\n",
    "subjects_list = list(set(unique_words_list) - set(words_to_remove_list))"
   ]
  },
  {
   "cell_type": "code",
   "execution_count": 14,
   "metadata": {
    "collapsed": true
   },
   "outputs": [],
   "source": [
    "#function to take a subject and create a list of binary values\n",
    "def get_subject(list_name, subject_name, df, col):\n",
    "    list_name =[]\n",
    "    for idx, i in  enumerate (df[col]):\n",
    "        if subject_name in i:\n",
    "            #print(idx, i)\n",
    "            list_name.append(1)\n",
    "        else:\n",
    "            list_name.append(0)\n",
    "    return(list_name)"
   ]
  },
  {
   "cell_type": "code",
   "execution_count": 15,
   "metadata": {
    "collapsed": true
   },
   "outputs": [],
   "source": [
    "#generate columns for each subject\n",
    "dictionary_subjects = dict()\n",
    "for i in subjects_list:\n",
    "    subject = 'S_{}'.format(i)\n",
    "    values = get_subject(subject, i, df, 'Q23')\n",
    "    #print(subject, values)\n",
    "    dictionary_subjects[subject] = values\n",
    "    \n",
    "#transform dictionary into dataframe\n",
    "df_subjects = pd.DataFrame.from_dict(dictionary_subjects,orient='index').transpose()"
   ]
  },
  {
   "cell_type": "code",
   "execution_count": 16,
   "metadata": {},
   "outputs": [
    {
     "data": {
      "image/png": "[encoded data removed]",
      "text/plain": [
       "<Figure size 648x576 with 1 Axes>"
      ]
     },
     "metadata": {},
     "output_type": "display_data"
    }
   ],
   "source": [
    "#set variable\n",
    "subjects = df_subjects.columns.tolist()\n",
    "occurence_by_subject = []\n",
    "\n",
    "#compute number of occurences by subject\n",
    "for col in df_subjects.columns.tolist():\n",
    "    occurence_by_subject.append(df_subjects[col].sum())\n",
    "    \n",
    "#sort the two lists\n",
    "occurence_by_subject, subjects = zip(*sorted(zip(occurence_by_subject, subjects)))\n",
    "\n",
    "#plot horizontal bar\n",
    "main_color = \"#ff9933\"\n",
    "plt.figure(figsize=(9,8))\n",
    "plt.barh(subjects, occurence_by_subject, color=main_color, align='center')\n",
    "plt.gca().xaxis.grid(True,color='white', linewidth = 2.5)\n",
    "plt.ylabel('Subject')\n",
    "plt.xlabel('Frequency');"
   ]
  },
  {
   "cell_type": "markdown",
   "metadata": {},
   "source": [
    "## what are respondants interested in?"
   ]
  },
  {
   "cell_type": "code",
   "execution_count": 18,
   "metadata": {
    "collapsed": true
   },
   "outputs": [],
   "source": [
    "#topics and columns names\n",
    "topic_name = ['captions_gen', 'speech_rec', 'text_cl', 'topic_mod']\n",
    "col_idx = ['Q30_1','Q30_2','Q30_3','Q30_4']\n",
    "\n",
    "#group by interest for each topic and count occurences\n",
    "frames=[]\n",
    "for name, idx in zip(topic_name, col_idx):\n",
    "    #print(name, idx)\n",
    "    group_by_interest = df.groupby(idx).size().reset_index().rename(columns={0:name})    \n",
    "    frames.append(group_by_interest.set_index(idx).transpose())\n",
    "\n",
    "#concatenate dataframes\n",
    "result = pd.concat(frames)\n",
    "\n",
    "#reorder columns\n",
    "cols = ['Interested','Very Interested','Somehow interested','Not Interested']\n",
    "result = result[cols]\n",
    "\n",
    "#assign negative values to \n",
    "result['Not Interested'] = 0 - result['Not Interested']\n",
    "result['Somehow interested'] = 0 - result['Somehow interested']\n",
    "\n",
    "#set index and dataframe\n",
    "index = pd.Index(result.index.tolist(), name='topic')\n",
    "df_stacked = pd.DataFrame(result, index=index)"
   ]
  },
  {
   "cell_type": "code",
   "execution_count": 19,
   "metadata": {},
   "outputs": [
    {
     "data": {
      "text/html": [
       "<div>\n",
       "<style scoped>\n",
       "    .dataframe tbody tr th:only-of-type {\n",
       "        vertical-align: middle;\n",
       "    }\n",
       "\n",
       "    .dataframe tbody tr th {\n",
       "        vertical-align: top;\n",
       "    }\n",
       "\n",
       "    .dataframe thead th {\n",
       "        text-align: right;\n",
       "    }\n",
       "</style>\n",
       "<table border=\"1\" class=\"dataframe\">\n",
       "  <thead>\n",
       "    <tr style=\"text-align: right;\">\n",
       "      <th></th>\n",
       "      <th>Interested</th>\n",
       "      <th>Very Interested</th>\n",
       "      <th>Somehow interested</th>\n",
       "      <th>Not Interested</th>\n",
       "    </tr>\n",
       "    <tr>\n",
       "      <th>topic</th>\n",
       "      <th></th>\n",
       "      <th></th>\n",
       "      <th></th>\n",
       "      <th></th>\n",
       "    </tr>\n",
       "  </thead>\n",
       "  <tbody>\n",
       "    <tr>\n",
       "      <th>captions_gen</th>\n",
       "      <td>5</td>\n",
       "      <td>10</td>\n",
       "      <td>-5</td>\n",
       "      <td>-18</td>\n",
       "    </tr>\n",
       "    <tr>\n",
       "      <th>speech_rec</th>\n",
       "      <td>4</td>\n",
       "      <td>9</td>\n",
       "      <td>-8</td>\n",
       "      <td>-17</td>\n",
       "    </tr>\n",
       "    <tr>\n",
       "      <th>text_cl</th>\n",
       "      <td>5</td>\n",
       "      <td>9</td>\n",
       "      <td>-10</td>\n",
       "      <td>-13</td>\n",
       "    </tr>\n",
       "    <tr>\n",
       "      <th>topic_mod</th>\n",
       "      <td>11</td>\n",
       "      <td>19</td>\n",
       "      <td>-4</td>\n",
       "      <td>-4</td>\n",
       "    </tr>\n",
       "  </tbody>\n",
       "</table>\n",
       "</div>"
      ],
      "text/plain": [
       "              Interested  Very Interested  Somehow interested  Not Interested\n",
       "topic                                                                        \n",
       "captions_gen           5               10                  -5             -18\n",
       "speech_rec             4                9                  -8             -17\n",
       "text_cl                5                9                 -10             -13\n",
       "topic_mod             11               19                  -4              -4"
      ]
     },
     "execution_count": 19,
     "metadata": {},
     "output_type": "execute_result"
    }
   ],
   "source": [
    "df_stacked"
   ]
  },
  {
   "cell_type": "code",
   "execution_count": 16,
   "metadata": {},
   "outputs": [
    {
     "data": {
      "text/plain": [
       "<Figure size 432x288 with 0 Axes>"
      ]
     },
     "metadata": {},
     "output_type": "display_data"
    },
    {
     "data": {
      "image/png": "[encoded data removed]",
      "text/plain": [
       "<Figure size 648x432 with 1 Axes>"
      ]
     },
     "metadata": {},
     "output_type": "display_data"
    }
   ],
   "source": [
    "#config plot colors and labels\n",
    "two_colors = [\"#ffb366\",\"#ff9933\",\"#ffd966\",\"#ffcc33\"]\n",
    "#two_colors_dark = [\"#ffb366\",\"#ff9933\",\"#ffbf00\",\"#cc9900\"]\n",
    "#one_color = [\"#ffb366\",\"#ff9933\",\"#ffcc99\",\"#ffe6cc\"]\n",
    "\n",
    "#font style\n",
    "title_font_size = 20\n",
    "ax_label_font_size = 16\n",
    "tick_font_size = 14\n",
    "legend_font_size = 12\n",
    "\n",
    "#plot\n",
    "fig = plt.figure();\n",
    "#ax = fig.add_subplot(111)\n",
    "ax = df_stacked.plot(kind='barh', stacked=True, color=two_colors, width=.7, linewidth='2.5', edgecolor='white', figsize=(9, 6))\n",
    "plt.axvline(x=0, c='white', linewidth=5)\n",
    "plt.axvline(x=0, c='#e62e00', linewidth=1.5)\n",
    "plt.title('Survey Respondents Interest by Topic', size = title_font_size)\n",
    "plt.ylabel('topic', size = ax_label_font_size)\n",
    "plt.xlabel('number of respondants', size = ax_label_font_size)\n",
    "\n",
    "#legend\n",
    "patches, labels = ax.get_legend_handles_labels()\n",
    "patches = [patches [1], patches [0], patches [2], patches[3]]\n",
    "labels = [labels[1], labels[0], labels[2], labels[3]]\n",
    "ax.legend(patches, labels, bbox_to_anchor=(1.05,1.02), loc=\"upper left\", prop={'size': legend_font_size})\n",
    "\n",
    "#change thicks\n",
    "fig.canvas.draw()\n",
    "ticks = [item.get_text() for item in ax.get_xticklabels()]\n",
    "ticks = ['', '20', '10', '0', '10', '20', '30', '']\n",
    "ax.set_xticklabels(ticks, size=tick_font_size)\n",
    "ax.yaxis.set_tick_params(labelsize=tick_font_size);"
   ]
  },
  {
   "cell_type": "markdown",
   "metadata": {},
   "source": [
    "## Is the study subject related to interest?"
   ]
  },
  {
   "cell_type": "code",
   "execution_count": 17,
   "metadata": {
    "collapsed": true
   },
   "outputs": [],
   "source": [
    "#### slice dataframe on topic interested\n",
    "df_topic_interest = df[['Q30_1', 'Q30_2', 'Q30_3', 'Q30_4']].reset_index()\n",
    "#fill nan with not interested\n",
    "df_topic_interest = df_topic_interest.iloc[:,0:5].astype(object).fillna(\"Not Interested\")\n",
    "#concatenate study areas and subjects\n",
    "df2 = pd.concat([df_topic_interest, df_subjects], axis=1).drop('index', axis=1)"
   ]
  },
  {
   "cell_type": "code",
   "execution_count": 18,
   "metadata": {
    "collapsed": true
   },
   "outputs": [],
   "source": [
    "def get_df_stacked(df):\n",
    "    \n",
    "    #topics and columns names\n",
    "    topic_name = ['captions_gen', 'speech_rec', 'text_cl', 'topic_mod']\n",
    "    col_idx = ['Q30_1','Q30_2','Q30_3','Q30_4']\n",
    "\n",
    "    #group by interest for each topic and count occurences\n",
    "    frames=[]\n",
    "    for name, idx in zip(topic_name, col_idx):\n",
    "        #print(name, idx)\n",
    "        group_by_interest = df.groupby(idx).size().reset_index().rename(columns={0:name})    \n",
    "        frames.append(group_by_interest.set_index(idx).transpose())\n",
    "\n",
    "    #concatenate dataframes\n",
    "    result = pd.concat(frames, sort=True)\n",
    "\n",
    "    #reorder columns\n",
    "    cols = ['Interested','Very Interested','Somehow interested','Not Interested']\n",
    "    cols_reduced = ['Very Interested','Somehow interested','Not Interested']\n",
    "    \n",
    "    try:\n",
    "        result = result[cols]\n",
    "    except:\n",
    "        result = result[cols_reduced]\n",
    "\n",
    "    #assign negative values to \n",
    "    result['Not Interested'] = 0 - result['Not Interested']\n",
    "    result['Somehow interested'] = 0 - result['Somehow interested']\n",
    "\n",
    "    #set index and dataframe\n",
    "    index = pd.Index(result.index.tolist(), name='topic')\n",
    "    df_stacked = pd.DataFrame(result, index=index)\n",
    "    \n",
    "    return df_stacked"
   ]
  },
  {
   "cell_type": "code",
   "execution_count": 19,
   "metadata": {
    "collapsed": true
   },
   "outputs": [],
   "source": [
    "def plot_df_stacked(df, subject, ax):\n",
    "    two_colors = [\"#ffb366\",\"#ff9933\",\"#ffd966\",\"#ffcc33\"]\n",
    "    #fig = plt.figure();\n",
    "    ax2 = df.plot(ax=ax,kind='barh', stacked=True, color=two_colors, width=.7, legend=False, linewidth='2.5')\n",
    "    ax.axvline(x=0, c='white', linewidth=4)\n",
    "    ax.axvline(x=0, c='#e62e00', linewidth=1.5)\n",
    "    ax.set_title('Interest by Topic: {}'.format(subject[2:]), size = 14)\n",
    "    plt.ylabel('topic', size = 10)\n",
    "    plt.xlabel('number of respondants', size = 10)\n",
    "    return ax2"
   ]
  },
  {
   "cell_type": "code",
   "execution_count": 20,
   "metadata": {
    "collapsed": true
   },
   "outputs": [],
   "source": [
    "subs = []\n",
    "df_list = []\n",
    "for sub in subjects:\n",
    "    if len(df2[df2[sub] == 1]) > 2:\n",
    "        #print(sub)\n",
    "        subs.append(sub)\n",
    "        df_play = df2[df2[sub] == 1].iloc[:,0:4]\n",
    "        df_list.append(get_df_stacked(df_play))"
   ]
  },
  {
   "cell_type": "code",
   "execution_count": 21,
   "metadata": {
    "scrolled": false
   },
   "outputs": [
    {
     "data": {
      "image/png": "[encoded data removed]",
      "text/plain": [
       "<Figure size 1440x720 with 6 Axes>"
      ]
     },
     "metadata": {},
     "output_type": "display_data"
    }
   ],
   "source": [
    "fig, ax = plt.subplots(2,3, figsize=(20,10))\n",
    "fig.subplots_adjust(hspace=0.4, wspace=0.4)\n",
    "\n",
    "for k,[frame, sub] in enumerate(zip(df_list, subs)):\n",
    "    i = k//3\n",
    "    j = k%3\n",
    "    plot_df_stacked(frame, sub, ax[i,j])"
   ]
  },
  {
   "cell_type": "markdown",
   "metadata": {},
   "source": [
    "## who are the respondents? More questions...\n",
    "\n",
    "- How much respondents \"play\" with data? 'Q28'\n",
    "- what programming/computing tools respondents know? 'Q29'\n",
    "- what respondents would like to learn that it is not included in these topics?  'Q32', 'Q31'\n",
    "- Who is looking for data support? 'Q25'\n",
    "- where are respondents from? 'LocationLatitude', 'LocationLongitude\n",
    "- Are people from different places interested in different topic or expert in other tools? interpolate more data\n",
    "- How much interests from respondents? response rate by day/hour. 'EndDate'"
   ]
  },
  {
   "cell_type": "code",
   "execution_count": 12,
   "metadata": {},
   "outputs": [],
   "source": [
    "#import library to display notebook as HTML\n",
    "import os\n",
    "from IPython.core.display import HTML\n",
    "\n",
    "#path to .ccs style script\n",
    "cur_path = os.path.dirname(os.path.abspath(\"__file__\"))\n",
    "\n",
    "new_path = os.path.relpath('..\\\\styles\\\\custom_styles_public_cloud_computing.css', cur_path)\n",
    "\n",
    "#function to display notebook\n",
    "def css():\n",
    "    style = open(new_path, \"r\").read()\n",
    "    return HTML(style)"
   ]
  },
  {
   "cell_type": "code",
   "execution_count": 13,
   "metadata": {},
   "outputs": [
    {
     "data": {
      "text/html": [
       "<style>\n",
       "@import url(http://fonts.googleapis.com/css?family=helvetica);\n",
       "body{\n",
       "font-family: 'helvetica', sans-serif !important;\n",
       "font-size: 16pt !important;\n",
       "line-height: 30px !important;\n",
       "font-weight: 400 !important;\n",
       "color: #d16103 !important;\n",
       "}\n",
       "#notebook-container {\n",
       "-webkit-box-shadow: none;\n",
       "box-shadow: none;\n",
       "}\n",
       ".rendered_html h1 { font-size:  30pt !important;  }\n",
       ".rendered_html h2 { font-size:  22pt !important; }\n",
       ".rendered_html h3 { font-size:  18pt  !important; }\n",
       ".rendered_html h4 { font-size:  14pt !important; }\n",
       ".rendered_html h5 { font-size:  12pt  !important; }\n",
       ".rendered_html h6 { font-size:  12pt  !important; }\n",
       ".rendered_html h1,\n",
       ".rendered_html h2,\n",
       ".rendered_html h3,\n",
       ".rendered_html h4,\n",
       ".rendered_html h5,\n",
       ".rendered_html h6 {\n",
       "font-family: 'helvetica', sans-serif !important;\n",
       "font-weight: 300 !important;\n",
       "line-height: 1.5em !important;\n",
       "color: rgb(221, 153, 51) !important;\n",
       "}\n",
       "h1 { font-size: 30pt; }\n",
       "h2 { font-size: 22pt; }\n",
       "h3 { font-size: 20pt; }\n",
       "h4 { font-size: 14pt; }\n",
       "h5 { font-size: 14pt; }\n",
       "h6 { font-size: 12pt; }\n",
       "h1, h2, h3, h4, h5, h6 {\n",
       "font-family: 'helvetica', sans-serif !important;\n",
       "color: #d16103 !important;\n",
       "line-height: 150px !important;\n",
       "text-decoration: none;\n",
       "}\n",
       "p{\n",
       "font-family: 'helvetica', sans-serif !important;\n",
       "font-size: 14pt !important;\n",
       "line-height: 30px !important;\n",
       "font-weight: 400 !important;\n",
       "color: #8d8d8d !important;\n",
       "}\n",
       "li{\n",
       "font-family: 'helvetica', sans-serif !important;\n",
       "font-size: 14pt !important;\n",
       "line-height: 30px !important;\n",
       "font-weight: 400 !important;\n",
       "color: #8d8d8d !important;\n",
       "padding-left: 0;\n",
       "list-style-position: inside;\n",
       "text-decoration: none;\n",
       "}\n",
       "ul{\n",
       "font-family: 'helvetica', sans-serif !important;\n",
       "font-size: 14pt !important;\n",
       "line-height: 30px !important;\n",
       "font-weight: 400 !important;\n",
       "text-decoration: none;\n",
       "}\n",
       "a{\n",
       "font-family: 'helvetica', sans-serif !important;\n",
       "font-size: 14pt !important;\n",
       "line-height: 30px !important;\n",
       "font-weight: 400 !important;\n",
       "color: #8d8d8d !important;\n",
       "text-decoration: none;\n",
       "}\n",
       "code{\n",
       "font-family: 'helvetica' !important;\n",
       "font-size: 1em !important;\n",
       "}\n",
       "pre{\n",
       "font-family: 'courier' !important;\n",
       "font-size: 1em !important;\t\n",
       "}\n",
       "div.input_area {\n",
       "border: none !important;\n",
       "background: whitesmoke !important;\n",
       "display: flex;\n",
       "justify-content: left;\n",
       "text-decoration: none;\n",
       "}\n",
       "<style>"
      ],
      "text/plain": [
       "<IPython.core.display.HTML object>"
      ]
     },
     "execution_count": 13,
     "metadata": {},
     "output_type": "execute_result"
    }
   ],
   "source": [
    "#run this cell to apply HTML style\n",
    "css()"
   ]
  }
 ],
 "metadata": {
  "kernelspec": {
   "display_name": "Python 3",
   "language": "python",
   "name": "python3"
  },
  "language_info": {
   "codemirror_mode": {
    "name": "ipython",
    "version": 3
   },
   "file_extension": ".py",
   "mimetype": "text/x-python",
   "name": "python",
   "nbconvert_exporter": "python",
   "pygments_lexer": "ipython3",
   "version": "3.6.5"
  }
 },
 "nbformat": 4,
 "nbformat_minor": 2
}
