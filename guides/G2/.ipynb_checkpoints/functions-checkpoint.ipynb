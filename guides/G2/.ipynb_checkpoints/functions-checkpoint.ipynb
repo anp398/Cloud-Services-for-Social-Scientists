{
 "cells": [
  {
   "cell_type": "code",
   "execution_count": 15,
   "metadata": {
    "collapsed": true
   },
   "outputs": [],
   "source": [
    "#add blob service\n",
    "\n",
    "def retrive_blob_list(keys, container_name):\n",
    "    \"\"\" \n",
    "    Function to get a list of blobs' URLs.\n",
    "    It takes your storage account name and API key, and it returns a list of BLOBs and urls to access them through your browser.\n",
    "    The funtion creates a BlockBlobService object and use list_blobs() to extract a list of BLOBs within the chosen container.\n",
    "    \n",
    "    INPUT: - dictionary with storage info. dictionary format: {storage:{storage_name:name,storage_api_key:api_key}}\n",
    "           - container name \n",
    "           \n",
    "    OUTPUT: a list of BLoBs' name and URL\n",
    "    \n",
    "    add use example:\n",
    "    \n",
    "    >>> from azure.storage.blob import BlockBlobService\n",
    "    >>> blob_name, blob_url = retrive_blob_list(azure_keys,'mynamecontainer')\n",
    "    >>> blob_name\n",
    "        (['bunch_of_people.jpg', 'bunch_of_people_2.jpg']\n",
    "    >>> blob_url\n",
    "        (['https://mynamestorage.blob.core.windows.net/mynamecontainer/bunch_of_people.jpg',\n",
    "         ['https://mynamestorage.blob.core.windows.net/mynamecontainer/bunch_of_people_2.jpg'])\n",
    "    \n",
    "    \"\"\"\n",
    "    storage_name = keys['STORAGE']['NAME']\n",
    "    storage_key = keys['STORAGE']['API_KEY']\n",
    "    blob_service = BlockBlobService(storage_name, storage_key)\n",
    "    uploaded_file = blob_service.list_blobs(container_name)\n",
    "    blob_url_format = 'https://{0}.blob.core.windows.net/{1}/{2}'\n",
    "    #store blobs' name and URLs in list\n",
    "    blob_name_list = []\n",
    "    blob_url_list = []\n",
    "    # retrive each blob name\n",
    "    for blob in uploaded_file:\n",
    "        blob_name_list.append(blob.name)\n",
    "        blob_url_list.append(blob_url_format.format(blob_service.account_name, container_name, blob.name))\n",
    "    return blob_name_list, blob_url_list"
   ]
  },
  {
   "cell_type": "code",
   "execution_count": 12,
   "metadata": {},
   "outputs": [],
   "source": [
    "#import library\n",
    "from azure.storage.blob import BlockBlobService\n",
    "\n",
    "#get a complete list of images' name and urls\n",
    "blob_name, blob_url = retrive_blob_list(azure_keys,'mynamecontainer')"
   ]
  },
  {
   "cell_type": "code",
   "execution_count": 13,
   "metadata": {},
   "outputs": [
    {
     "data": {
      "text/plain": [
       "['bunch_of_people.jpg', 'bunch_of_people_2.jpg']"
      ]
     },
     "execution_count": 13,
     "metadata": {},
     "output_type": "execute_result"
    }
   ],
   "source": [
    "blob_name"
   ]
  },
  {
   "cell_type": "code",
   "execution_count": 14,
   "metadata": {},
   "outputs": [
    {
     "data": {
      "text/plain": [
       "['https://mynamecloudstorage.blob.core.windows.net/mynamecontainer/bunch_of_people.jpg',\n",
       " 'https://mynamecloudstorage.blob.core.windows.net/mynamecontainer/bunch_of_people_2.jpg']"
      ]
     },
     "execution_count": 14,
     "metadata": {},
     "output_type": "execute_result"
    }
   ],
   "source": [
    "blob_url"
   ]
  },
  {
   "cell_type": "code",
   "execution_count": 4,
   "metadata": {},
   "outputs": [],
   "source": [
    "import pickle\n",
    "with open('C:/Users/popor/Desktop/azure_services_keys.json', 'rb') as handle:\n",
    "    azure_keys = pickle.load(handle)"
   ]
  },
  {
   "cell_type": "code",
   "execution_count": 6,
   "metadata": {},
   "outputs": [
    {
     "data": {
      "text/plain": [
       "{'STORAGE': {'NAME': 'mynamecloudstorage',\n",
       "  'API_KEY': 'V5Aw2VVYq5AljEQ9g5tcbvXslckMew0h+Pov9ADE1FDPAAI+1xYjBqj3lxJS6nX7DA8FUJok26rmMS2PSZYRng=='},\n",
       " 'FACE': {'NAME': 'MyFaceRecognitionService',\n",
       "  'API_KEY': '620facc4717d4136b665e43a618c2911'},\n",
       " 'COMPUTER_VISION': {'NAME': 'MyComputerVisionService',\n",
       "  'API_KEY': 'b9fb47b349694da0bb42ffb5d687c7c0'},\n",
       " 'SPEECH_RECOGNITION': {'NAME': 'MySpeechRecognition',\n",
       "  'API_KEY': '5d14da803af54010ba390d560b203354'},\n",
       " 'TEXT_ANALYTICS': {'NAME': 'MyTextAnalytics',\n",
       "  'API_KEY': 'b9e7682904fa4ac59a2a0a25850dd20d'},\n",
       " 'ML_STUDIO': {'NAME': '', 'API_KEY': ''}}"
      ]
     },
     "execution_count": 6,
     "metadata": {},
     "output_type": "execute_result"
    }
   ],
   "source": [
    "azure_keys"
   ]
  },
  {
   "cell_type": "code",
   "execution_count": null,
   "metadata": {
    "collapsed": true
   },
   "outputs": [],
   "source": []
  }
 ],
 "metadata": {
  "kernelspec": {
   "display_name": "Python 3",
   "language": "python",
   "name": "python3"
  },
  "language_info": {
   "codemirror_mode": {
    "name": "ipython",
    "version": 3
   },
   "file_extension": ".py",
   "mimetype": "text/x-python",
   "name": "python",
   "nbconvert_exporter": "python",
   "pygments_lexer": "ipython3",
   "version": "3.6.5"
  }
 },
 "nbformat": 4,
 "nbformat_minor": 2
}
