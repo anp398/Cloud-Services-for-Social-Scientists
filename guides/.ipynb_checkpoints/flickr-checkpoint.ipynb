{
 "cells": [
  {
   "cell_type": "code",
   "execution_count": 1,
   "metadata": {},
   "outputs": [],
   "source": [
    "import flickrapi"
   ]
  },
  {
   "cell_type": "code",
   "execution_count": 6,
   "metadata": {},
   "outputs": [],
   "source": [
    "api_key = '37e9dfb059c36a51d70aaf00928a6ac0'\n",
    "api_secret = '9f90961d6f5cd30c'\n",
    "\n",
    "flickr=flickrapi.FlickrAPI(api_key,api_secret,cache=True)"
   ]
  },
  {
   "cell_type": "code",
   "execution_count": 7,
   "metadata": {},
   "outputs": [],
   "source": [
    "#IQSS location\n",
    "lat=42.375638\n",
    "long=-71.113236"
   ]
  },
  {
   "cell_type": "code",
   "execution_count": 8,
   "metadata": {},
   "outputs": [],
   "source": [
    "#time of observation\n",
    "Timestamp_1_Jan_2018 = 1514764800\n",
    "Timestamp_15_Jul_2018 = 1531699195\n",
    "Timestamp_31_Dec_2018 = 1532038548"
   ]
  },
  {
   "cell_type": "code",
   "execution_count": 10,
   "metadata": {},
   "outputs": [],
   "source": [
    "obj = flickr.photos.search(min_taken_date = Timestamp_1_Jan_2018,\n",
    "                           max_taken_date = Timestamp_15_Jul_2018,\n",
    "                           geo_context = 2,\n",
    "                           lat = lat,\n",
    "                           long = long,\n",
    "                           radius = 0.3,\n",
    "                           extras=['url_c', 'geo', 'owner_name', 'date_upload'],\n",
    "                           per_page=5)"
   ]
  },
  {
   "cell_type": "code",
   "execution_count": 13,
   "metadata": {},
   "outputs": [],
   "source": [
    "import xml.etree.ElementTree as ET\n"
   ]
  },
  {
   "cell_type": "code",
   "execution_count": 14,
   "metadata": {},
   "outputs": [
    {
     "name": "stdout",
     "output_type": "stream",
     "text": [
      "<rsp stat=\"ok\">\n",
      "<photos page=\"1\" pages=\"1217\" perpage=\"5\" total=\"6084\">\n",
      "\t<photo dateupload=\"1531716702\" farm=\"1\" id=\"42723098304\" isfamily=\"0\" isfriend=\"0\" ispublic=\"1\" owner=\"161640063@N02\" secret=\"04093021d5\" server=\"925\" title=\"timelapse_00663_16-07-2018_sunrise.jpg\" />\n",
      "\t<photo dateupload=\"1531714968\" farm=\"2\" id=\"42722708384\" isfamily=\"0\" isfriend=\"0\" ispublic=\"1\" owner=\"161640063@N02\" secret=\"8dfbbdefae\" server=\"1784\" title=\"daily_img_16-07-2018_06_20_59.jpg\" />\n",
      "\t<photo dateupload=\"1531639967\" farm=\"2\" id=\"43417896851\" isfamily=\"0\" isfriend=\"0\" ispublic=\"1\" owner=\"161640063@N02\" secret=\"17cdf02a3c\" server=\"1766\" title=\"timelapse_06357_15-07-2018_sunrise.jpg\" />\n",
      "\t<photo dateupload=\"1531715467\" farm=\"1\" id=\"42722827314\" isfamily=\"0\" isfriend=\"0\" ispublic=\"1\" owner=\"161640063@N02\" secret=\"e424acebca\" server=\"923\" title=\"daily_img_16-07-2018_06_30_01.jpg\" />\n",
      "\t<photo dateupload=\"1531673361\" farm=\"1\" id=\"29555834568\" isfamily=\"0\" isfriend=\"0\" ispublic=\"1\" owner=\"161640063@N02\" secret=\"a77e3d2869\" server=\"841\" title=\"daily_img_15-07-2018_18_40_01.jpg\" />\n",
      "</photos>\n",
      "</rsp>\n"
     ]
    }
   ],
   "source": [
    "photos = []\n",
    "for photo in obj:\n",
    "    url=photo.get('url_c')\n",
    "    photo = ET.dump(obj)\n",
    "    photos.append(photos)"
   ]
  },
  {
   "cell_type": "code",
   "execution_count": 15,
   "metadata": {},
   "outputs": [
    {
     "data": {
      "text/plain": [
       "[[...]]"
      ]
     },
     "execution_count": 15,
     "metadata": {},
     "output_type": "execute_result"
    }
   ],
   "source": [
    "photos"
   ]
  },
  {
   "cell_type": "code",
   "execution_count": null,
   "metadata": {},
   "outputs": [],
   "source": []
  }
 ],
 "metadata": {
  "kernelspec": {
   "display_name": "Python 3",
   "language": "python",
   "name": "python3"
  },
  "language_info": {
   "codemirror_mode": {
    "name": "ipython",
    "version": 3
   },
   "file_extension": ".py",
   "mimetype": "text/x-python",
   "name": "python",
   "nbconvert_exporter": "python",
   "pygments_lexer": "ipython3",
   "version": "3.6.5"
  }
 },
 "nbformat": 4,
 "nbformat_minor": 2
}
